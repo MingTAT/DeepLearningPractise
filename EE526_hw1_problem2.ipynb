{
 "cells": [
  {
   "cell_type": "code",
   "execution_count": 291,
   "metadata": {
    "collapsed": true
   },
   "outputs": [],
   "source": [
    "import numpy as np\n",
    "from matplotlib import pyplot as plt\n",
    "%matplotlib inline"
   ]
  },
  {
   "cell_type": "code",
   "execution_count": 311,
   "metadata": {
    "collapsed": true
   },
   "outputs": [],
   "source": [
    "def data():\n",
    "    X = []\n",
    "    Y = []\n",
    "    #data          Bias, x1, x2, y\n",
    "    data = np.array([[0,1,2,1],\n",
    "                     [0,1,4,1],\n",
    "                     [0,2,2,1],\n",
    "                     [0,4,2,-1],\n",
    "                     [0,3,4,-1],\n",
    "                     [0,2,3,-1],])\n",
    "    B = np.array([[1,2,1],\n",
    "                [1,4,1],\n",
    "                [2,2,1],\n",
    "                [4,2,-1],\n",
    "                [3,4,-1],\n",
    "                [2,3,-1],])\n",
    "    x1 = B[0:3, 0]\n",
    "    x2 = B[3:6, 0]\n",
    "    y1 = B[0:3, 1]\n",
    "    y2 = B[3:6, 1]\n",
    "    Y = np.array([1,1,1,-1,-1,-1])\n",
    "    return x1, x2, y1, y2, B, Y"
   ]
  },
  {
   "cell_type": "code",
   "execution_count": 312,
   "metadata": {
    "collapsed": true
   },
   "outputs": [],
   "source": [
    "x1, x2, y1, y2, B, Y = data()"
   ]
  },
  {
   "cell_type": "code",
   "execution_count": 313,
   "metadata": {
    "collapsed": true
   },
   "outputs": [],
   "source": [
    "def perceptron_sgd(X, Y,eta):\n",
    "    w = np.zeros(len(X[0]))\n",
    "    #print(w)\n",
    "    errors = []\n",
    "    epochs = 100\n",
    "    for epoch in range(epochs):\n",
    "        total_error = 0\n",
    "        for i, x in enumerate(X):\n",
    "            if(np.dot(X[i], w) * Y[i]) <= 0:\n",
    "                #print(w) to track w values\n",
    "                total_error += np.dot(X[i],w)*Y[i]\n",
    "                w = w + eta * X[i] * Y[i] \n",
    "                #eta+=1\n",
    "            errors.append(total_error*-1)\n",
    "\n",
    "    return w"
   ]
  },
  {
   "cell_type": "code",
   "execution_count": 317,
   "metadata": {},
   "outputs": [],
   "source": [
    "#print(perceptron_sgd(B, Y,eta))"
   ]
  },
  {
   "cell_type": "code",
   "execution_count": 318,
   "metadata": {},
   "outputs": [],
   "source": [
    "w = perceptron_sgd(B, Y,eta)"
   ]
  },
  {
   "cell_type": "code",
   "execution_count": 319,
   "metadata": {},
   "outputs": [
    {
     "name": "stdout",
     "output_type": "stream",
     "text": [
      "[-0.4  0.4  0.6]\n"
     ]
    },
    {
     "data": {
      "image/png": "[encoded data removed]",
      "text/plain": [
       "<matplotlib.figure.Figure at 0x10cfaa518>"
      ]
     },
     "metadata": {},
     "output_type": "display_data"
    }
   ],
   "source": [
    "#x1 = [w[0], w[1], -w[1], w[0]]\n",
    "#x2 = [w[0], w[1], w[1], -w[0]]\n",
    "#x1x2 = np.array([x1, x2])\n",
    "#X, Y, U, V = zip(*x1x2)\n",
    "fig = plt.figure()\n",
    "eta = 5.5\n",
    "ax1 = fig.add_subplot(111)\n",
    "plt.xlabel('X')\n",
    "plt.ylabel('Y')\n",
    "ax1.scatter(x1, y1, c = 'r')\n",
    "ax1.scatter(x2, y2, c = 'b')\n",
    "print(perceptron_sgd(B, Y,0.2))\n",
    "x = np.linspace(1,4)\n",
    "y = ((w[0] - w[1])* x) / w[2] + eta\n",
    "ax1.plot(x, y, c ='g')\n",
    "#ax = plt.gca()\n",
    "#ax.quiver(X, Y, U, V, scale = 1, color = 'blue')\n",
    "plt.show()"
   ]
  }
 ],
 "metadata": {
  "kernelspec": {
   "display_name": "Python 3",
   "language": "python",
   "name": "python3"
  },
  "language_info": {
   "codemirror_mode": {
    "name": "ipython",
    "version": 3
   },
   "file_extension": ".py",
   "mimetype": "text/x-python",
   "name": "python",
   "nbconvert_exporter": "python",
   "pygments_lexer": "ipython3",
   "version": "3.5.4"
  }
 },
 "nbformat": 4,
 "nbformat_minor": 2
}

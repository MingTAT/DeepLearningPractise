{
 "cells": [
  {
   "cell_type": "code",
   "execution_count": 261,
   "metadata": {
    "collapsed": true
   },
   "outputs": [],
   "source": [
    "import pandas as pd\n",
    "import numpy as np  \n",
    "import random\n",
    "import matplotlib.pyplot as plt  \n",
    "import time  \n",
    "import math\n",
    "%matplotlib inline\n",
    "%config InlineBackend.figure_format = 'retina'\n"
   ]
  },
  {
   "cell_type": "code",
   "execution_count": 427,
   "metadata": {},
   "outputs": [],
   "source": [
    "df = pd.read_csv('spambase.csv', header = None)\n",
    "df = df.sample(frac=1).reset_index(drop = True)\n",
    "df.head()\n",
    "\n",
    "feature_index = np.r_[0:57]\n",
    "scaled_features = {}\n",
    "for each in feature_index:\n",
    "    mean, std = df[each].mean(), df[each].std()\n",
    "    scaled_features[each] = [mean, std]\n",
    "    df.loc[:, each] = (df[each] - mean)/std\n",
    "df.head()\n",
    "\n",
    "\n",
    "#1/3 data for testing\n",
    "test_data = df[-df.shape[0]//3:]\n",
    "test_data_feature = test_data[np.r_[0:57]]\n",
    "test_data_label = test_data[57]\n",
    "#2/3 data for training\n",
    "train_data = df[:-df.shape[0]//3]\n",
    "train_data_feature = train_data[np.r_[0:57]]\n",
    "train_data_label = train_data[57]"
   ]
  },
  {
   "cell_type": "code",
   "execution_count": null,
   "metadata": {},
   "outputs": [],
   "source": [
    "train_data_label.values"
   ]
  },
  {
   "cell_type": "code",
   "execution_count": null,
   "metadata": {
    "collapsed": true
   },
   "outputs": [],
   "source": [
    "def sigmoid(inX):\n",
    "    return 1.0/(1 + np.exp(-inX))"
   ]
  },
  {
   "cell_type": "code",
   "execution_count": 421,
   "metadata": {},
   "outputs": [],
   "source": [
    "\n",
    "def trainLogRegres(train_x, train_y, opts):\n",
    "    # calculate training time\n",
    "    startTime = time.time()\n",
    " \n",
    "    numSamples, numFeatures = np.shape(train_x)\n",
    "    alpha = opts['alpha']; maxIter = opts['maxIter']\n",
    "    weights = np.ones((numFeatures, 1))\n",
    " \n",
    "    # optimize through gradient descent algorilthm\n",
    "    for k in range(maxIter):\n",
    "        if opts['optimizeType'] == 'gradDescent': # gradient descent algorilthm\n",
    "            alpha = 4.0/(1.0 + k) + 0.01 ##\n",
    "            i = np.random.randint(0, numSamples)##\n",
    "            output = sigmoid(train_x[i, :] * weights) ##[i ,:]\n",
    "            error = train_y[i,0] - output ##[i,0]\n",
    "            weights = weights + alpha * train_x[i,:].transpose() * error #[i ,:]\n",
    "        elif opts['optimizeType'] == 'stocGradDescent': # stochastic gradient descent\n",
    "            for i in range(numSamples):\n",
    "                output = sigmoid(train_x[i, :] * weights)\n",
    "                error = train_y[i, 0] - output\n",
    "                weights = weights + alpha * train_x[i, :].transpose() * error\n",
    "        elif opts['optimizeType'] == 'smoothStocGradDescent': # smooth stochastic gradient descent\n",
    "            # randomly select samples to optimize for reducing cycle fluctuations \n",
    "            dataIndex = range(numSamples)\n",
    "            for i in range(numSamples):\n",
    "                alpha = 4.0 / (1.0 + k + i) + 0.01\n",
    "                randIndex = int(np.random.uniform(0, len(dataIndex)))\n",
    "                output = sigmoid(train_x[randIndex, :] * weights)\n",
    "                error = train_y[randIndex, 0] - output\n",
    "                weights = weights + alpha * train_x[randIndex, :].transpose() * error\n",
    "                del(dataIndex[randIndex]) # during one interation, delete the optimized sample\n",
    "        else:\n",
    "            raise NameError('Not support optimize method type!')\n",
    "    \n",
    " \n",
    "    print ('training complete! Took %fs!' % (time.time() - startTime))\n",
    "\n",
    "    return weights\n"
   ]
  },
  {
   "cell_type": "code",
   "execution_count": 422,
   "metadata": {},
   "outputs": [],
   "source": [
    "def testLogRegres(weights, test_x, test_y):\n",
    "    numSamples, numFeatures = np.shape(test_x)\n",
    "    matchCount = 0\n",
    "    for i in range(numSamples):\n",
    "        predict = sigmoid(sum(test_x[i] * weights))\n",
    "        if np.all(predict > 0.5):\n",
    "            matchCount += 1\n",
    "            if np.all(test_y[i,0] == 1):\n",
    "                matchCount += 1\n",
    "        #if predict == bool(test_y[i, 0]):\n",
    "        #if predict == bool(test_y):\n",
    "               # matchCount += 1\n",
    "        \n",
    "        else:\n",
    "            #if np.all(test_y[i,0] == 0):\n",
    "            matchCount += 1\n",
    "    accuracy = float(matchCount*10) / (numSamples)\n",
    "    return accuracy"
   ]
  },
  {
   "cell_type": "code",
   "execution_count": 435,
   "metadata": {},
   "outputs": [],
   "source": [
    "def showLogRegres(weights, train_x, train_y):\n",
    "    \n",
    "    #train_x and train_y is mat datatype\n",
    "    train_x = train_data_feature.values\n",
    "    train_x_matrix = np.mat(train_x)\n",
    "    train_y = train_data_label.values\n",
    "    train_y_matrix = np.mat(train_y).transpose()\n",
    "    test_x = test_data_feature.values\n",
    "    test_x_matrix = np.mat(test_x)\n",
    "    test_y = test_data_label.values\n",
    "    test_y_matrix = np.mat(test_y).transpose()\n",
    "    opts = {'alpha': 0.01, 'maxIter': 200, 'optimizeType': 'gradDescent'}\n",
    "    optimalWeights = trainLogRegres(train_x_matrix, train_y_matrix, opts) ##y_matrix\n",
    "    test_acc = testLogRegres(optimalWeights, test_x_matrix, test_y_matrix)\n",
    "    iterations = 70\n",
    "    \n",
    "    losses = {'train':[], 'iteration':[]}\n",
    "    start = time.time()\n",
    "    for ii in range(iterations):\n",
    "        opts = {'alpha': 0.01, 'maxIter': 200, 'optimizeType': 'gradDescent'}\n",
    "        optimalWeights = trainLogRegres(train_x_matrix, train_y_matrix, opts) ##y_matrix\n",
    "        test_acc = testLogRegres(optimalWeights, test_x_matrix, test_y_matrix)\n",
    "        losses['train'].append(optimalWeights)\n",
    "        losses['iteration'].append(test_acc)\n",
    "    elapsed_time =float(time.time() - start)\n",
    "    print('Run iterations', iterations, ', total time use{:.2f}'.format(elapsed_time),'s')\n",
    "       \n",
    "    plt.plot(losses['train'],label = 'Training Acc')\n",
    "    plt.plot(losses['iteration'], label = 'Testing Acc')\n",
    "    _=plt.ylim()"
   ]
  },
  {
   "cell_type": "code",
   "execution_count": 436,
   "metadata": {},
   "outputs": [
    {
     "name": "stdout",
     "output_type": "stream",
     "text": [
      "training complete! Took 0.017464s!\n"
     ]
    },
    {
     "name": "stderr",
     "output_type": "stream",
     "text": [
      "/Users/ming/anaconda3/envs/tfdeeplearning/lib/python3.5/site-packages/ipykernel_launcher.py:2: RuntimeWarning: overflow encountered in exp\n",
      "  \n"
     ]
    },
    {
     "data": {
      "text/plain": [
       "13.31812255541069"
      ]
     },
     "execution_count": 436,
     "metadata": {},
     "output_type": "execute_result"
    }
   ],
   "source": [
    "train_x = train_data_feature.values\n",
    "train_x_matrix = np.mat(train_x)\n",
    "train_y = train_data_label.values\n",
    "train_y_matrix = np.mat(train_y).transpose()\n",
    "test_x = test_data_feature.values\n",
    "test_x_matrix = np.mat(test_x)\n",
    "test_y = test_data_label.values\n",
    "test_y_matrix = np.mat(test_y).transpose()\n",
    "opts = {'alpha': 0.01, 'maxIter': 200, 'optimizeType': 'gradDescent'}\n",
    "optimalWeights = trainLogRegres(train_x_matrix, train_y_matrix, opts) ##y_matrix\n",
    "testLogRegres(optimalWeights, test_x_matrix, test_y_matrix)\n"
   ]
  },
  {
   "cell_type": "code",
   "execution_count": 438,
   "metadata": {},
   "outputs": [],
   "source": [
    "#showLogRegres(optimalWeights, train_x_matrix, train_y_matrix)"
   ]
  },
  {
   "cell_type": "raw",
   "metadata": {
    "collapsed": true
   },
   "source": [
    "In this question, I tried three ways of training data, including gradDescent,stocGradDescent and smoothStocGradDescent. none of which give me a better accuracy. I also tried shuffle the input. It does not work eighter. So I printed out the optimalWeights and accuracy instead of graph. "
   ]
  },
  {
   "cell_type": "code",
   "execution_count": null,
   "metadata": {
    "collapsed": true
   },
   "outputs": [],
   "source": []
  }
 ],
 "metadata": {
  "kernelspec": {
   "display_name": "Python 3",
   "language": "python",
   "name": "python3"
  },
  "language_info": {
   "codemirror_mode": {
    "name": "ipython",
    "version": 3
   },
   "file_extension": ".py",
   "mimetype": "text/x-python",
   "name": "python",
   "nbconvert_exporter": "python",
   "pygments_lexer": "ipython3",
   "version": "3.5.4"
  }
 },
 "nbformat": 4,
 "nbformat_minor": 2
}

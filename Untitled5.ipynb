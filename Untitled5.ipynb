{
 "cells": [
  {
   "cell_type": "code",
   "execution_count": 2,
   "metadata": {
    "collapsed": true
   },
   "outputs": [],
   "source": [
    "import pandas as pd\n",
    "import numpy as np  \n",
    "import matplotlib.pyplot as plt  \n",
    "import time  \n",
    "import math\n",
    "%matplotlib inline\n",
    "%config InlineBackend.figure_format = 'retina'\n"
   ]
  },
  {
   "cell_type": "code",
   "execution_count": 3,
   "metadata": {
    "collapsed": true
   },
   "outputs": [],
   "source": [
    "df = pd.read_csv('spambase.csv', header = None)\n",
    "df = df.sample(frac=1).reset_index(drop = True)\n",
    "df.head()\n",
    "\n",
    "feature_index = np.r_[0:57]\n",
    "scaled_features = {}\n",
    "for each in feature_index:\n",
    "    mean, std = df[each].mean(), df[each].std()\n",
    "    scaled_features[each] = [mean, std]\n",
    "    df.loc[:, each] = (df[each] - mean)/std\n",
    "df.head()\n",
    "\n",
    "#1/3 data for testing\n",
    "test_data = df[-df.shape[0]//3:]\n",
    "test_data_feature = test_data[np.r_[0:57]]\n",
    "test_data_label = test_data[57]\n",
    "#2/3 data for training\n",
    "train_data = df[:-df.shape[0]//3]\n",
    "train_data_feature = train_data[np.r_[0:57]]\n",
    "train_data_label = train_data[57]"
   ]
  },
  {
   "cell_type": "code",
   "execution_count": 4,
   "metadata": {
    "collapsed": true
   },
   "outputs": [],
   "source": [
    "def sigmoid(inX):\n",
    "    return 1.0/(1 + exp(-inX))"
   ]
  },
  {
   "cell_type": "code",
   "execution_count": 30,
   "metadata": {},
   "outputs": [],
   "source": [
    "\n",
    "def trainLogRegres(train_x, train_y, opts):\n",
    "    # calculate training time\n",
    "    startTime = time.time()\n",
    " \n",
    "    numSamples, numFeatures = np.shape(train_x)\n",
    "    alpha = opts['alpha']; maxIter = opts['maxIter']\n",
    "    weights = ones((numFeatures, 1))\n",
    " \n",
    "    # optimize through gradient descent algorilthm\n",
    "    for k in range(maxIter):\n",
    "        if opts['optimizeType'] == 'gradDescent': # gradient descent algorilthm\n",
    "            output = sigmoid(train_x * weights)\n",
    "            error = train_y - output\n",
    "            weights = weights + alpha * train_x.transpose() * error\n",
    "        elif opts['optimizeType'] == 'stocGradDescent': # stochastic gradient descent\n",
    "            for i in range(numSamples):\n",
    "                output = sigmoid(train_x[i, :] * weights)\n",
    "                error = train_y[i, 0] - output\n",
    "                weights = weights + alpha * train_x[i, :].transpose() * error\n",
    "        elif opts['optimizeType'] == 'smoothStocGradDescent': # smooth stochastic gradient descent\n",
    "            # randomly select samples to optimize for reducing cycle fluctuations \n",
    "            dataIndex = range(numSamples)\n",
    "            for i in range(numSamples):\n",
    "                alpha = 4.0 / (1.0 + k + i) + 0.01\n",
    "                randIndex = int(random.uniform(0, len(dataIndex)))\n",
    "                output = sigmoid(train_x[randIndex, :] * weights)\n",
    "                error = train_y[randIndex, 0] - output\n",
    "                weights = weights + alpha * train_x[randIndex, :].transpose() * error\n",
    "                del(dataIndex[randIndex]) # during one interation, delete the optimized sample\n",
    "        else:\n",
    "            raise NameError('Not support optimize method type!')\n",
    "    \n",
    " \n",
    "    print ('Congratulations, training complete! Took %fs!' % (time.time() - startTime))\n",
    "    return weights\n"
   ]
  },
  {
   "cell_type": "code",
   "execution_count": 31,
   "metadata": {
    "collapsed": true
   },
   "outputs": [],
   "source": [
    "def testLogRegres(weights, test_x, test_y):\n",
    "    numSamples, numFeatures = shape(test_x)\n",
    "    matchCount = 0\n",
    "    for i in xrange(numSamples):\n",
    "        predict = sigmoid(test_x[i, :] * weights)[0, 0] > 0.5\n",
    "        if predict == bool(test_y[i, 0]):\n",
    "            matchCount += 1\n",
    "    accuracy = float(matchCount) / numSamples\n",
    "    return accuracy\n"
   ]
  },
  {
   "cell_type": "code",
   "execution_count": 32,
   "metadata": {},
   "outputs": [],
   "source": [
    "def showLogRegres(weights, train_x, train_y):\n",
    "    # notice: train_x and train_y is mat datatype\n",
    "    numSamples, numFeatures = shape(train_x)\n",
    "    if numFeatures != 3:\n",
    "        print (\"Sorry! I can not draw because the dimension of your data is not 2!\")\n",
    "        return 1\n",
    " \n",
    "    # draw all samples\n",
    "    for i in xrange(numSamples):\n",
    "        if int(train_y[i, 0]) == 0:\n",
    "            plt.plot(train_x[i, 1], train_x[i, 2], 'or')\n",
    "        elif int(train_y[i, 0]) == 1:\n",
    "            plt.plot(train_x[i, 1], train_x[i, 2], 'ob')\n",
    " \n",
    "    # draw the classify line\n",
    "    min_x = min(train_x[:, 1])[0, 0]\n",
    "    max_x = max(train_x[:, 1])[0, 0]\n",
    "    weights = weights.getA()  # convert mat to array\n",
    "    y_min_x = float(-weights[0] - weights[1] * min_x) / weights[2]\n",
    "    y_max_x = float(-weights[0] - weights[1] * max_x) / weights[2]\n",
    "    plt.plot([min_x, max_x], [y_min_x, y_max_x], '-g')\n",
    "    plt.xlabel('X1'); plt.ylabel('X2')\n",
    "    plt.show()"
   ]
  },
  {
   "cell_type": "code",
   "execution_count": 33,
   "metadata": {},
   "outputs": [],
   "source": [
    "def loadData():\n",
    "    train_x = train_data_feature.shape[1]\n",
    "    train_y = train_data_label\n",
    "    return train_x, train_y\n"
   ]
  },
  {
   "cell_type": "code",
   "execution_count": 34,
   "metadata": {},
   "outputs": [
    {
     "ename": "ValueError",
     "evalue": "not enough values to unpack (expected 2, got 0)",
     "output_type": "error",
     "traceback": [
      "\u001b[0;31m---------------------------------------------------------------------------\u001b[0m",
      "\u001b[0;31mValueError\u001b[0m                                Traceback (most recent call last)",
      "\u001b[0;32m<ipython-input-34-3965cdd0b8ef>\u001b[0m in \u001b[0;36m<module>\u001b[0;34m()\u001b[0m\n\u001b[1;32m      3\u001b[0m \u001b[0mtest_x\u001b[0m \u001b[0;34m=\u001b[0m \u001b[0mtrain_x\u001b[0m\u001b[0;34m;\u001b[0m \u001b[0mtest_y\u001b[0m \u001b[0;34m=\u001b[0m \u001b[0mtrain_y\u001b[0m\u001b[0;34m\u001b[0m\u001b[0m\n\u001b[1;32m      4\u001b[0m \u001b[0mopts\u001b[0m \u001b[0;34m=\u001b[0m \u001b[0;34m{\u001b[0m\u001b[0;34m'alpha'\u001b[0m\u001b[0;34m:\u001b[0m \u001b[0;36m0.01\u001b[0m\u001b[0;34m,\u001b[0m \u001b[0;34m'maxIter'\u001b[0m\u001b[0;34m:\u001b[0m \u001b[0;36m20\u001b[0m\u001b[0;34m,\u001b[0m \u001b[0;34m'optimizeType'\u001b[0m\u001b[0;34m:\u001b[0m \u001b[0;34m'smoothStocGradDescent'\u001b[0m\u001b[0;34m}\u001b[0m\u001b[0;34m\u001b[0m\u001b[0m\n\u001b[0;32m----> 5\u001b[0;31m \u001b[0moptimalWeights\u001b[0m \u001b[0;34m=\u001b[0m \u001b[0mtrainLogRegres\u001b[0m\u001b[0;34m(\u001b[0m\u001b[0mtrain_x\u001b[0m\u001b[0;34m,\u001b[0m \u001b[0mtrain_y\u001b[0m\u001b[0;34m,\u001b[0m \u001b[0mopts\u001b[0m\u001b[0;34m)\u001b[0m\u001b[0;34m\u001b[0m\u001b[0m\n\u001b[0m",
      "\u001b[0;32m<ipython-input-30-1ebee39a2ffd>\u001b[0m in \u001b[0;36mtrainLogRegres\u001b[0;34m(train_x, train_y, opts)\u001b[0m\n\u001b[1;32m      4\u001b[0m     \u001b[0mstartTime\u001b[0m \u001b[0;34m=\u001b[0m \u001b[0mtime\u001b[0m\u001b[0;34m.\u001b[0m\u001b[0mtime\u001b[0m\u001b[0;34m(\u001b[0m\u001b[0;34m)\u001b[0m\u001b[0;34m\u001b[0m\u001b[0m\n\u001b[1;32m      5\u001b[0m \u001b[0;34m\u001b[0m\u001b[0m\n\u001b[0;32m----> 6\u001b[0;31m     \u001b[0mnumSamples\u001b[0m\u001b[0;34m,\u001b[0m \u001b[0mnumFeatures\u001b[0m \u001b[0;34m=\u001b[0m \u001b[0mnp\u001b[0m\u001b[0;34m.\u001b[0m\u001b[0mshape\u001b[0m\u001b[0;34m(\u001b[0m\u001b[0mtrain_x\u001b[0m\u001b[0;34m)\u001b[0m\u001b[0;34m\u001b[0m\u001b[0m\n\u001b[0m\u001b[1;32m      7\u001b[0m     \u001b[0malpha\u001b[0m \u001b[0;34m=\u001b[0m \u001b[0mopts\u001b[0m\u001b[0;34m[\u001b[0m\u001b[0;34m'alpha'\u001b[0m\u001b[0;34m]\u001b[0m\u001b[0;34m;\u001b[0m \u001b[0mmaxIter\u001b[0m \u001b[0;34m=\u001b[0m \u001b[0mopts\u001b[0m\u001b[0;34m[\u001b[0m\u001b[0;34m'maxIter'\u001b[0m\u001b[0;34m]\u001b[0m\u001b[0;34m\u001b[0m\u001b[0m\n\u001b[1;32m      8\u001b[0m     \u001b[0mweights\u001b[0m \u001b[0;34m=\u001b[0m \u001b[0mones\u001b[0m\u001b[0;34m(\u001b[0m\u001b[0;34m(\u001b[0m\u001b[0mnumFeatures\u001b[0m\u001b[0;34m,\u001b[0m \u001b[0;36m1\u001b[0m\u001b[0;34m)\u001b[0m\u001b[0;34m)\u001b[0m\u001b[0;34m\u001b[0m\u001b[0m\n",
      "\u001b[0;31mValueError\u001b[0m: not enough values to unpack (expected 2, got 0)"
     ]
    }
   ],
   "source": [
    "train_x, train_y = loadData()\n",
    "#test_x = test_data_feature.shape[1], test_y = test_data_label\n",
    "test_x = train_x; test_y = train_y\n",
    "opts = {'alpha': 0.01, 'maxIter': 20, 'optimizeType': 'smoothStocGradDescent'}\n",
    "optimalWeights = trainLogRegres(train_x, train_y, opts)"
   ]
  },
  {
   "cell_type": "code",
   "execution_count": null,
   "metadata": {
    "collapsed": true
   },
   "outputs": [],
   "source": []
  },
  {
   "cell_type": "code",
   "execution_count": null,
   "metadata": {
    "collapsed": true
   },
   "outputs": [],
   "source": []
  }
 ],
 "metadata": {
  "kernelspec": {
   "display_name": "Python 3",
   "language": "python",
   "name": "python3"
  },
  "language_info": {
   "codemirror_mode": {
    "name": "ipython",
    "version": 3
   },
   "file_extension": ".py",
   "mimetype": "text/x-python",
   "name": "python",
   "nbconvert_exporter": "python",
   "pygments_lexer": "ipython3",
   "version": "3.5.4"
  }
 },
 "nbformat": 4,
 "nbformat_minor": 2
}

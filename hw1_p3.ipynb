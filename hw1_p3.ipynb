{
 "cells": [
  {
   "cell_type": "code",
   "execution_count": 63,
   "metadata": {
    "collapsed": true
   },
   "outputs": [],
   "source": [
    "import numpy as np\n",
    "import pandas as pd\n",
    "from sklearn.linear_model import LinearRegression, SGDClassifier\n",
    "import matplotlib.pyplot as plt\n",
    "%matplotlib inline\n",
    "%config InlineBackend.figure_format = 'retina'"
   ]
  },
  {
   "cell_type": "code",
   "execution_count": 64,
   "metadata": {},
   "outputs": [
    {
     "data": {
      "text/html": [
       "<div>\n",
       "<style>\n",
       "    .dataframe thead tr:only-child th {\n",
       "        text-align: right;\n",
       "    }\n",
       "\n",
       "    .dataframe thead th {\n",
       "        text-align: left;\n",
       "    }\n",
       "\n",
       "    .dataframe tbody tr th {\n",
       "        vertical-align: top;\n",
       "    }\n",
       "</style>\n",
       "<table border=\"1\" class=\"dataframe\">\n",
       "  <thead>\n",
       "    <tr style=\"text-align: right;\">\n",
       "      <th></th>\n",
       "      <th>0</th>\n",
       "      <th>1</th>\n",
       "      <th>2</th>\n",
       "      <th>3</th>\n",
       "      <th>4</th>\n",
       "      <th>5</th>\n",
       "      <th>6</th>\n",
       "      <th>7</th>\n",
       "      <th>8</th>\n",
       "      <th>9</th>\n",
       "      <th>...</th>\n",
       "      <th>48</th>\n",
       "      <th>49</th>\n",
       "      <th>50</th>\n",
       "      <th>51</th>\n",
       "      <th>52</th>\n",
       "      <th>53</th>\n",
       "      <th>54</th>\n",
       "      <th>55</th>\n",
       "      <th>56</th>\n",
       "      <th>57</th>\n",
       "    </tr>\n",
       "  </thead>\n",
       "  <tbody>\n",
       "    <tr>\n",
       "      <th>0</th>\n",
       "      <td>0.00</td>\n",
       "      <td>0.00</td>\n",
       "      <td>0.00</td>\n",
       "      <td>0.0</td>\n",
       "      <td>0.00</td>\n",
       "      <td>0.00</td>\n",
       "      <td>0.00</td>\n",
       "      <td>0.00</td>\n",
       "      <td>0.00</td>\n",
       "      <td>0.00</td>\n",
       "      <td>...</td>\n",
       "      <td>0.0</td>\n",
       "      <td>0.000</td>\n",
       "      <td>0.000</td>\n",
       "      <td>0.000</td>\n",
       "      <td>0.000</td>\n",
       "      <td>0.000</td>\n",
       "      <td>1.833</td>\n",
       "      <td>5</td>\n",
       "      <td>11</td>\n",
       "      <td>0</td>\n",
       "    </tr>\n",
       "    <tr>\n",
       "      <th>1</th>\n",
       "      <td>0.28</td>\n",
       "      <td>0.00</td>\n",
       "      <td>0.28</td>\n",
       "      <td>0.0</td>\n",
       "      <td>0.00</td>\n",
       "      <td>0.28</td>\n",
       "      <td>0.28</td>\n",
       "      <td>0.28</td>\n",
       "      <td>0.28</td>\n",
       "      <td>1.15</td>\n",
       "      <td>...</td>\n",
       "      <td>0.0</td>\n",
       "      <td>0.000</td>\n",
       "      <td>0.000</td>\n",
       "      <td>0.554</td>\n",
       "      <td>0.221</td>\n",
       "      <td>0.166</td>\n",
       "      <td>5.328</td>\n",
       "      <td>140</td>\n",
       "      <td>341</td>\n",
       "      <td>1</td>\n",
       "    </tr>\n",
       "    <tr>\n",
       "      <th>2</th>\n",
       "      <td>0.00</td>\n",
       "      <td>0.00</td>\n",
       "      <td>0.00</td>\n",
       "      <td>0.0</td>\n",
       "      <td>0.00</td>\n",
       "      <td>0.00</td>\n",
       "      <td>0.00</td>\n",
       "      <td>0.00</td>\n",
       "      <td>0.00</td>\n",
       "      <td>0.00</td>\n",
       "      <td>...</td>\n",
       "      <td>0.0</td>\n",
       "      <td>0.000</td>\n",
       "      <td>0.000</td>\n",
       "      <td>0.000</td>\n",
       "      <td>0.000</td>\n",
       "      <td>0.000</td>\n",
       "      <td>1.466</td>\n",
       "      <td>6</td>\n",
       "      <td>22</td>\n",
       "      <td>0</td>\n",
       "    </tr>\n",
       "    <tr>\n",
       "      <th>3</th>\n",
       "      <td>0.00</td>\n",
       "      <td>0.87</td>\n",
       "      <td>0.87</td>\n",
       "      <td>0.0</td>\n",
       "      <td>0.00</td>\n",
       "      <td>0.00</td>\n",
       "      <td>0.00</td>\n",
       "      <td>0.00</td>\n",
       "      <td>0.00</td>\n",
       "      <td>0.87</td>\n",
       "      <td>...</td>\n",
       "      <td>0.0</td>\n",
       "      <td>0.000</td>\n",
       "      <td>0.000</td>\n",
       "      <td>0.000</td>\n",
       "      <td>0.138</td>\n",
       "      <td>0.000</td>\n",
       "      <td>2.136</td>\n",
       "      <td>21</td>\n",
       "      <td>47</td>\n",
       "      <td>0</td>\n",
       "    </tr>\n",
       "    <tr>\n",
       "      <th>4</th>\n",
       "      <td>0.00</td>\n",
       "      <td>0.54</td>\n",
       "      <td>0.00</td>\n",
       "      <td>0.0</td>\n",
       "      <td>0.54</td>\n",
       "      <td>0.00</td>\n",
       "      <td>0.00</td>\n",
       "      <td>0.00</td>\n",
       "      <td>0.00</td>\n",
       "      <td>0.00</td>\n",
       "      <td>...</td>\n",
       "      <td>0.0</td>\n",
       "      <td>0.182</td>\n",
       "      <td>0.091</td>\n",
       "      <td>0.091</td>\n",
       "      <td>0.000</td>\n",
       "      <td>0.000</td>\n",
       "      <td>1.212</td>\n",
       "      <td>5</td>\n",
       "      <td>40</td>\n",
       "      <td>0</td>\n",
       "    </tr>\n",
       "  </tbody>\n",
       "</table>\n",
       "<p>5 rows × 58 columns</p>\n",
       "</div>"
      ],
      "text/plain": [
       "     0     1     2    3     4     5     6     7     8     9  ...   48     49  \\\n",
       "0  0.00  0.00  0.00  0.0  0.00  0.00  0.00  0.00  0.00  0.00 ...  0.0  0.000   \n",
       "1  0.28  0.00  0.28  0.0  0.00  0.28  0.28  0.28  0.28  1.15 ...  0.0  0.000   \n",
       "2  0.00  0.00  0.00  0.0  0.00  0.00  0.00  0.00  0.00  0.00 ...  0.0  0.000   \n",
       "3  0.00  0.87  0.87  0.0  0.00  0.00  0.00  0.00  0.00  0.87 ...  0.0  0.000   \n",
       "4  0.00  0.54  0.00  0.0  0.54  0.00  0.00  0.00  0.00  0.00 ...  0.0  0.182   \n",
       "\n",
       "      50     51     52     53     54   55   56  57  \n",
       "0  0.000  0.000  0.000  0.000  1.833    5   11   0  \n",
       "1  0.000  0.554  0.221  0.166  5.328  140  341   1  \n",
       "2  0.000  0.000  0.000  0.000  1.466    6   22   0  \n",
       "3  0.000  0.000  0.138  0.000  2.136   21   47   0  \n",
       "4  0.091  0.091  0.000  0.000  1.212    5   40   0  \n",
       "\n",
       "[5 rows x 58 columns]"
      ]
     },
     "execution_count": 64,
     "metadata": {},
     "output_type": "execute_result"
    }
   ],
   "source": [
    "df = pd.read_csv('spambase.csv', header = None)\n",
    "df = df.sample(frac=1).reset_index(drop = True)\n",
    "df.head()"
   ]
  },
  {
   "cell_type": "code",
   "execution_count": 74,
   "metadata": {
    "collapsed": true
   },
   "outputs": [],
   "source": [
    "#1/3 data for testing\n",
    "test_data = df[-df.shape[0]//3:]\n",
    "test_data_feature = test_data[np.r_[0:57]]\n",
    "test_data_label = test_data[57]\n",
    "#2/3 data for training\n",
    "train_data = df[:-df.shape[0]//3]\n",
    "train_data_feature = train_data[np.r_[0:57]]\n",
    "train_data_label = train_data[57]"
   ]
  },
  {
   "cell_type": "code",
   "execution_count": 66,
   "metadata": {},
   "outputs": [
    {
     "name": "stdout",
     "output_type": "stream",
     "text": [
      "testing error rate: 39.05%\n"
     ]
    },
    {
     "name": "stderr",
     "output_type": "stream",
     "text": [
      "/Users/ming/anaconda3/envs/tfdeeplearning/lib/python3.5/site-packages/sklearn/linear_model/stochastic_gradient.py:84: FutureWarning: max_iter and tol parameters have been added in <class 'sklearn.linear_model.stochastic_gradient.SGDClassifier'> in 0.19. If both are left unset, they default to max_iter=5 and tol=None. If tol is not None, max_iter defaults to max_iter=1000. From 0.21, default max_iter will be 1000, and default tol will be 1e-3.\n",
      "  \"and default tol will be 1e-3.\" % type(self), FutureWarning)\n"
     ]
    }
   ],
   "source": [
    "# use Stochastic Gradient Descent(SGD) to train the model\n",
    "classify_model = SGDClassifier(loss=\"hinge\", penalty=\"l2\",learning_rate='constant',eta0=0.001)\n",
    "classify_model.fit(train_data_feature,train_data_label)\n",
    "predict = classify_model.predict(test_data_feature)\n",
    "\n",
    "tot,err=0,0\n",
    "for pred,truth in zip(predict,test_data_label.tolist()):\n",
    "    if pred!=truth:\n",
    "        err+=1\n",
    "    tot+=1\n",
    "print('testing error rate: {:.2%}'.format(err/tot))"
   ]
  },
  {
   "cell_type": "code",
   "execution_count": 76,
   "metadata": {
    "collapsed": true
   },
   "outputs": [],
   "source": [
    "#i got 39.05% error rate before normalization\n",
    "#next, change different learning rate to see the error rate change"
   ]
  },
  {
   "cell_type": "code",
   "execution_count": 77,
   "metadata": {},
   "outputs": [
    {
     "name": "stdout",
     "output_type": "stream",
     "text": [
      "Before normalization, testing error rate: 6.71%\n",
      "Before normalization, testing error rate: 6.65%\n",
      "Before normalization, testing error rate: 6.45%\n",
      "Before normalization, testing error rate: 8.47%\n",
      "Before normalization, testing error rate: 8.74%\n",
      "Before normalization, testing error rate: 9.06%\n"
     ]
    }
   ],
   "source": [
    "err_tab=[]\n",
    "test_rate = [0.0002,0.001,0.005,0.025,0.125,0.725,]\n",
    "for rate in test_rate:\n",
    "    classify_model = SGDClassifier(loss=\"hinge\", penalty=\"l2\",learning_rate='constant',eta0=rate,max_iter=1000,tol=None)\n",
    "    classify_model.fit(train_data_feature,train_data_label)\n",
    "    predict = classify_model.predict(test_data_feature)\n",
    "    tot,err=0,0\n",
    "    for pred,truth in zip(predict,test_data_label.tolist()):\n",
    "        if pred!=truth:\n",
    "            err+=1\n",
    "        tot+=1\n",
    "    err_tab+=[err/tot]\n",
    "    print('Before normalization, testing error rate: {:.2%}'.format(err/tot))"
   ]
  },
  {
   "cell_type": "code",
   "execution_count": 78,
   "metadata": {},
   "outputs": [
    {
     "data": {
      "text/plain": [
       "<matplotlib.text.Text at 0x115c93fd0>"
      ]
     },
     "execution_count": 78,
     "metadata": {},
     "output_type": "execute_result"
    },
    {
     "data": {
      "image/png": "[encoded data removed]",
      "text/plain": [
       "<matplotlib.figure.Figure at 0x115c7df98>"
      ]
     },
     "metadata": {
      "image/png": {
       "height": 265,
       "width": 396
      }
     },
     "output_type": "display_data"
    }
   ],
   "source": [
    "plt.xscale(('log'))\n",
    "plt.scatter(test_rate, err_tab, color=\"blue\")\n",
    "plt.ylabel(\"learning rate\")\n",
    "plt.xlabel(\"error rate\")"
   ]
  },
  {
   "cell_type": "code",
   "execution_count": 79,
   "metadata": {
    "collapsed": true
   },
   "outputs": [],
   "source": [
    "#Normalize data"
   ]
  },
  {
   "cell_type": "code",
   "execution_count": 80,
   "metadata": {},
   "outputs": [
    {
     "data": {
      "text/html": [
       "<div>\n",
       "<style>\n",
       "    .dataframe thead tr:only-child th {\n",
       "        text-align: right;\n",
       "    }\n",
       "\n",
       "    .dataframe thead th {\n",
       "        text-align: left;\n",
       "    }\n",
       "\n",
       "    .dataframe tbody tr th {\n",
       "        vertical-align: top;\n",
       "    }\n",
       "</style>\n",
       "<table border=\"1\" class=\"dataframe\">\n",
       "  <thead>\n",
       "    <tr style=\"text-align: right;\">\n",
       "      <th></th>\n",
       "      <th>0</th>\n",
       "      <th>1</th>\n",
       "      <th>2</th>\n",
       "      <th>3</th>\n",
       "      <th>4</th>\n",
       "      <th>5</th>\n",
       "      <th>6</th>\n",
       "      <th>7</th>\n",
       "      <th>8</th>\n",
       "      <th>9</th>\n",
       "      <th>...</th>\n",
       "      <th>48</th>\n",
       "      <th>49</th>\n",
       "      <th>50</th>\n",
       "      <th>51</th>\n",
       "      <th>52</th>\n",
       "      <th>53</th>\n",
       "      <th>54</th>\n",
       "      <th>55</th>\n",
       "      <th>56</th>\n",
       "      <th>57</th>\n",
       "    </tr>\n",
       "  </thead>\n",
       "  <tbody>\n",
       "    <tr>\n",
       "      <th>0</th>\n",
       "      <td>-0.342396</td>\n",
       "      <td>-0.165054</td>\n",
       "      <td>-0.556700</td>\n",
       "      <td>-0.046894</td>\n",
       "      <td>-0.464264</td>\n",
       "      <td>-0.350228</td>\n",
       "      <td>-0.291762</td>\n",
       "      <td>-0.262533</td>\n",
       "      <td>-0.323267</td>\n",
       "      <td>-0.371324</td>\n",
       "      <td>...</td>\n",
       "      <td>-0.158436</td>\n",
       "      <td>-0.514251</td>\n",
       "      <td>-0.155181</td>\n",
       "      <td>-0.329876</td>\n",
       "      <td>-0.308321</td>\n",
       "      <td>-0.103037</td>\n",
       "      <td>-0.105849</td>\n",
       "      <td>-0.242047</td>\n",
       "      <td>-0.449064</td>\n",
       "      <td>0</td>\n",
       "    </tr>\n",
       "    <tr>\n",
       "      <th>1</th>\n",
       "      <td>0.574561</td>\n",
       "      <td>-0.165054</td>\n",
       "      <td>-0.001302</td>\n",
       "      <td>-0.046894</td>\n",
       "      <td>-0.464264</td>\n",
       "      <td>0.672326</td>\n",
       "      <td>0.423543</td>\n",
       "      <td>0.435597</td>\n",
       "      <td>0.681701</td>\n",
       "      <td>1.412298</td>\n",
       "      <td>...</td>\n",
       "      <td>-0.158436</td>\n",
       "      <td>-0.514251</td>\n",
       "      <td>-0.155181</td>\n",
       "      <td>0.349318</td>\n",
       "      <td>0.590484</td>\n",
       "      <td>0.283601</td>\n",
       "      <td>0.004302</td>\n",
       "      <td>0.450647</td>\n",
       "      <td>0.095178</td>\n",
       "      <td>1</td>\n",
       "    </tr>\n",
       "    <tr>\n",
       "      <th>2</th>\n",
       "      <td>-0.342396</td>\n",
       "      <td>-0.165054</td>\n",
       "      <td>-0.556700</td>\n",
       "      <td>-0.046894</td>\n",
       "      <td>-0.464264</td>\n",
       "      <td>-0.350228</td>\n",
       "      <td>-0.291762</td>\n",
       "      <td>-0.262533</td>\n",
       "      <td>-0.323267</td>\n",
       "      <td>-0.371324</td>\n",
       "      <td>...</td>\n",
       "      <td>-0.158436</td>\n",
       "      <td>-0.514251</td>\n",
       "      <td>-0.155181</td>\n",
       "      <td>-0.329876</td>\n",
       "      <td>-0.308321</td>\n",
       "      <td>-0.103037</td>\n",
       "      <td>-0.117415</td>\n",
       "      <td>-0.236916</td>\n",
       "      <td>-0.430923</td>\n",
       "      <td>0</td>\n",
       "    </tr>\n",
       "    <tr>\n",
       "      <th>3</th>\n",
       "      <td>-0.342396</td>\n",
       "      <td>0.509064</td>\n",
       "      <td>1.169001</td>\n",
       "      <td>-0.046894</td>\n",
       "      <td>-0.464264</td>\n",
       "      <td>-0.350228</td>\n",
       "      <td>-0.291762</td>\n",
       "      <td>-0.262533</td>\n",
       "      <td>-0.323267</td>\n",
       "      <td>0.978025</td>\n",
       "      <td>...</td>\n",
       "      <td>-0.158436</td>\n",
       "      <td>-0.514251</td>\n",
       "      <td>-0.155181</td>\n",
       "      <td>-0.329876</td>\n",
       "      <td>0.252923</td>\n",
       "      <td>-0.103037</td>\n",
       "      <td>-0.096299</td>\n",
       "      <td>-0.159950</td>\n",
       "      <td>-0.389693</td>\n",
       "      <td>0</td>\n",
       "    </tr>\n",
       "    <tr>\n",
       "      <th>4</th>\n",
       "      <td>-0.342396</td>\n",
       "      <td>0.253364</td>\n",
       "      <td>-0.556700</td>\n",
       "      <td>-0.046894</td>\n",
       "      <td>0.338695</td>\n",
       "      <td>-0.350228</td>\n",
       "      <td>-0.291762</td>\n",
       "      <td>-0.262533</td>\n",
       "      <td>-0.323267</td>\n",
       "      <td>-0.371324</td>\n",
       "      <td>...</td>\n",
       "      <td>-0.158436</td>\n",
       "      <td>0.158937</td>\n",
       "      <td>0.676673</td>\n",
       "      <td>-0.218312</td>\n",
       "      <td>-0.308321</td>\n",
       "      <td>-0.103037</td>\n",
       "      <td>-0.125420</td>\n",
       "      <td>-0.242047</td>\n",
       "      <td>-0.401237</td>\n",
       "      <td>0</td>\n",
       "    </tr>\n",
       "  </tbody>\n",
       "</table>\n",
       "<p>5 rows × 58 columns</p>\n",
       "</div>"
      ],
      "text/plain": [
       "         0         1         2         3         4         5         6   \\\n",
       "0 -0.342396 -0.165054 -0.556700 -0.046894 -0.464264 -0.350228 -0.291762   \n",
       "1  0.574561 -0.165054 -0.001302 -0.046894 -0.464264  0.672326  0.423543   \n",
       "2 -0.342396 -0.165054 -0.556700 -0.046894 -0.464264 -0.350228 -0.291762   \n",
       "3 -0.342396  0.509064  1.169001 -0.046894 -0.464264 -0.350228 -0.291762   \n",
       "4 -0.342396  0.253364 -0.556700 -0.046894  0.338695 -0.350228 -0.291762   \n",
       "\n",
       "         7         8         9  ...        48        49        50        51  \\\n",
       "0 -0.262533 -0.323267 -0.371324 ... -0.158436 -0.514251 -0.155181 -0.329876   \n",
       "1  0.435597  0.681701  1.412298 ... -0.158436 -0.514251 -0.155181  0.349318   \n",
       "2 -0.262533 -0.323267 -0.371324 ... -0.158436 -0.514251 -0.155181 -0.329876   \n",
       "3 -0.262533 -0.323267  0.978025 ... -0.158436 -0.514251 -0.155181 -0.329876   \n",
       "4 -0.262533 -0.323267 -0.371324 ... -0.158436  0.158937  0.676673 -0.218312   \n",
       "\n",
       "         52        53        54        55        56  57  \n",
       "0 -0.308321 -0.103037 -0.105849 -0.242047 -0.449064   0  \n",
       "1  0.590484  0.283601  0.004302  0.450647  0.095178   1  \n",
       "2 -0.308321 -0.103037 -0.117415 -0.236916 -0.430923   0  \n",
       "3  0.252923 -0.103037 -0.096299 -0.159950 -0.389693   0  \n",
       "4 -0.308321 -0.103037 -0.125420 -0.242047 -0.401237   0  \n",
       "\n",
       "[5 rows x 58 columns]"
      ]
     },
     "execution_count": 80,
     "metadata": {},
     "output_type": "execute_result"
    }
   ],
   "source": [
    "feature_index = np.r_[0:57]\n",
    "scaled_features = {}\n",
    "for each in feature_index:\n",
    "    mean, std = df[each].mean(), df[each].std()\n",
    "    scaled_features[each] = [mean, std]\n",
    "    df.loc[:, each] = (df[each] - mean)/std\n",
    "df.head()"
   ]
  },
  {
   "cell_type": "code",
   "execution_count": 81,
   "metadata": {
    "collapsed": true
   },
   "outputs": [],
   "source": [
    "# 1/3 data for test\n",
    "test_data = df[-df.shape[0]//3:]\n",
    "test_data_feature = test_data[np.r_[0:57]]\n",
    "test_data_label = test_data[57]\n",
    "# 2/3 data for train\n",
    "train_data = df[:-df.shape[0]//3]\n",
    "train_data_feature = train_data[np.r_[0:57]]\n",
    "train_data_label = train_data[57]"
   ]
  },
  {
   "cell_type": "code",
   "execution_count": 82,
   "metadata": {},
   "outputs": [
    {
     "name": "stdout",
     "output_type": "stream",
     "text": [
      "After normalization, testing error rate: 6.78%\n"
     ]
    },
    {
     "name": "stderr",
     "output_type": "stream",
     "text": [
      "/Users/ming/anaconda3/envs/tfdeeplearning/lib/python3.5/site-packages/sklearn/linear_model/stochastic_gradient.py:84: FutureWarning: max_iter and tol parameters have been added in <class 'sklearn.linear_model.stochastic_gradient.SGDClassifier'> in 0.19. If both are left unset, they default to max_iter=5 and tol=None. If tol is not None, max_iter defaults to max_iter=1000. From 0.21, default max_iter will be 1000, and default tol will be 1e-3.\n",
      "  \"and default tol will be 1e-3.\" % type(self), FutureWarning)\n"
     ]
    }
   ],
   "source": [
    "# use Stochastic Gradient Descent(SGD) to train the model\n",
    "classify_model = SGDClassifier(loss=\"hinge\", penalty=\"l2\",learning_rate='constant',eta0=0.001)\n",
    "classify_model.fit(train_data_feature,train_data_label)\n",
    "predict = classify_model.predict(test_data_feature)\n",
    "\n",
    "tot,err=0,0\n",
    "for pred,truth in zip(predict,test_data_label.tolist()):\n",
    "    if pred!=truth:\n",
    "        err+=1\n",
    "    tot+=1\n",
    "print('After normalization, testing error rate: {:.2%}'.format(err/tot))"
   ]
  },
  {
   "cell_type": "code",
   "execution_count": 83,
   "metadata": {
    "collapsed": true
   },
   "outputs": [],
   "source": [
    "#In sum, after doing normalization, the data error rate lowered 1%"
   ]
  },
  {
   "cell_type": "code",
   "execution_count": null,
   "metadata": {
    "collapsed": true
   },
   "outputs": [],
   "source": []
  }
 ],
 "metadata": {
  "kernelspec": {
   "display_name": "Python 3",
   "language": "python",
   "name": "python3"
  },
  "language_info": {
   "codemirror_mode": {
    "name": "ipython",
    "version": 3
   },
   "file_extension": ".py",
   "mimetype": "text/x-python",
   "name": "python",
   "nbconvert_exporter": "python",
   "pygments_lexer": "ipython3",
   "version": "3.5.4"
  }
 },
 "nbformat": 4,
 "nbformat_minor": 2
}

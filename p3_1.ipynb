{
 "cells": [
  {
   "cell_type": "code",
   "execution_count": 8,
   "metadata": {
    "collapsed": true
   },
   "outputs": [],
   "source": [
    "import numpy as np\n",
    "import pandas as pd\n",
    "import math\n",
    "import time\n",
    "from sklearn.linear_model import LinearRegression, SGDClassifier\n",
    "import matplotlib.pyplot as plt\n",
    "%matplotlib inline\n",
    "%config InlineBackend.figure_format = 'retina'"
   ]
  },
  {
   "cell_type": "code",
   "execution_count": 9,
   "metadata": {},
   "outputs": [],
   "source": [
    "df = pd.read_csv('spambase.csv', header = None)\n",
    "df = df.sample(frac=1).reset_index(drop = True)\n",
    "df.head()\n"
   ]
  },
  {
   "cell_type": "code",
   "execution_count": 10,
   "metadata": {
    "collapsed": true
   },
   "outputs": [],
   "source": [
    "#normlize the data first "
   ]
  },
  {
   "cell_type": "code",
   "execution_count": 24,
   "metadata": {},
   "outputs": [],
   "source": [
    "feature_index = np.r_[0:57]\n",
    "scaled_features = {}\n",
    "for each in feature_index:\n",
    "    mean, std = df[each].mean(), df[each].std()\n",
    "    scaled_features[each] = [mean, std]\n",
    "    df.loc[:, each] = (df[each] - mean)/std\n",
    "df.head()\n",
    "\n",
    "#1/3 data for testing\n",
    "test_data = df[-df.shape[0]//3:]\n",
    "test_data_feature = test_data[np.r_[0:57]]\n",
    "test_data_label = test_data[57]\n",
    "#2/3 data for training\n",
    "train_data = df[:-df.shape[0]//3]\n",
    "train_data_feature = train_data[np.r_[0:57]]\n",
    "train_data_label = train_data[57]"
   ]
  },
  {
   "cell_type": "code",
   "execution_count": null,
   "metadata": {},
   "outputs": [],
   "source": []
  },
  {
   "cell_type": "raw",
   "metadata": {},
   "source": []
  },
  {
   "cell_type": "code",
   "execution_count": 25,
   "metadata": {
    "collapsed": true
   },
   "outputs": [],
   "source": [
    "def sigmoid(x):\n",
    "    return 1.0/(1 + np.exp(-x))"
   ]
  },
  {
   "cell_type": "code",
   "execution_count": 26,
   "metadata": {
    "collapsed": true
   },
   "outputs": [],
   "source": [
    "def logRegression(train_x, train_y):\n",
    "    iteration_time = 300\n",
    "    delta = np.zeros((3,1))\n",
    "    numSamples, numFeatures = np.shape(train_data)\n",
    "    alpha = 0.01 #step size for iterartion\n",
    "    for k in range(iteration_time):\n",
    "        alpha = 4.0 / (1.0 + k) + 0.01\n",
    "        i = np.random.randint(0, numSamples)\n",
    "        h = sigmoid(train_x[i, :]*delta)\n",
    "        error = train_y[i, 0] - h\n",
    "        delta += alpha * train_x[i, :].transpose()*error\n",
    "    return delta"
   ]
  },
  {
   "cell_type": "code",
   "execution_count": 37,
   "metadata": {
    "collapsed": true
   },
   "outputs": [],
   "source": [
    "def calAccuracyRate(train_x, train_y, delta):\n",
    "    count = 0;\n",
    "    numSamples, numFeatures = np.shape(train_x) #get size of training sample\n",
    "    for i in range(numSamples):\n",
    "        h = sigmoid(train_x[i,:] * delta)\n",
    "        if h >= 0.5 and int (train_y[i, 0]) == 1:\n",
    "            count += 1\n",
    "        elif h <0.5 and train_y[i, 0] == 0 :\n",
    "            count += 1\n",
    "        return count"
   ]
  },
  {
   "cell_type": "code",
   "execution_count": 38,
   "metadata": {
    "collapsed": true
   },
   "outputs": [],
   "source": [
    "def showGraph(train_x, train_y, delta):\n",
    "    numSamples, numFeatures = np.shape(train_x)\n",
    "    for i in range(numSamples):\n",
    "        if int(train_y[i, 0]) == 0:\n",
    "            plt.plot(train_x[i, 1], train_x[i, 2], 'or')\n",
    "        elif int(train_y[i, 0] == 1):\n",
    "            plt.plot(train_x[i, 1], train_x[i, 2], 'ob')\n",
    "            \n",
    "    min_x = min(train_x[:,1])[0,0] - 1\n",
    "    max_x = max(train_x[:,1])[0,0] + 1\n",
    "    y_min_x = float(-delta[0,0] - delta[1,0] * min_x) / delta[2,0]  \n",
    "    y_max_x = float(-delta[0,0] - delta[1,0] * max_x) / delta[2,0]  \n",
    "    plt.plot([min_x, max_x], [y_min_x, y_max_x], 'y')  \n",
    "    plt.xlabel('X1'); plt.ylabel('X2')  \n",
    "    plt.show()"
   ]
  },
  {
   "cell_type": "code",
   "execution_count": 49,
   "metadata": {
    "collapsed": true
   },
   "outputs": [],
   "source": [
    "def testingLogR():\n",
    "    train_x = train_data_feature.values\n",
    "    train_y = test_data_feature.values\n",
    "    maxx=0.0\n",
    "    numBegin=20  \n",
    "    for i in range(numBegin):\n",
    "        delta=logRegression(train_x,train_y)\n",
    "        cur=calAccuracyRate(train_x,train_y,delta)\n",
    "        if cur>maxx:\n",
    "            maxx=cur\n",
    "            ans=delta\n",
    "    numSamples,numFeatures=ny.shape(train_x)\n",
    "    print(\"Accuracy：\",maxx*100/numSamples,\"%\")\n"
   ]
  },
  {
   "cell_type": "code",
   "execution_count": 50,
   "metadata": {},
   "outputs": [
    {
     "ename": "ValueError",
     "evalue": "non-broadcastable output operand with shape (3,1) doesn't match the broadcast shape (3,57)",
     "output_type": "error",
     "traceback": [
      "\u001b[0;31m---------------------------------------------------------------------------\u001b[0m",
      "\u001b[0;31mValueError\u001b[0m                                Traceback (most recent call last)",
      "\u001b[0;32m<ipython-input-50-2889824c696d>\u001b[0m in \u001b[0;36m<module>\u001b[0;34m()\u001b[0m\n\u001b[0;32m----> 1\u001b[0;31m \u001b[0mtestingLogR\u001b[0m\u001b[0;34m(\u001b[0m\u001b[0;34m)\u001b[0m\u001b[0;34m\u001b[0m\u001b[0m\n\u001b[0m",
      "\u001b[0;32m<ipython-input-49-5d3b8bf9b8b2>\u001b[0m in \u001b[0;36mtestingLogR\u001b[0;34m()\u001b[0m\n\u001b[1;32m      5\u001b[0m     \u001b[0mnumBegin\u001b[0m\u001b[0;34m=\u001b[0m\u001b[0;36m20\u001b[0m\u001b[0;34m\u001b[0m\u001b[0m\n\u001b[1;32m      6\u001b[0m     \u001b[0;32mfor\u001b[0m \u001b[0mi\u001b[0m \u001b[0;32min\u001b[0m \u001b[0mrange\u001b[0m\u001b[0;34m(\u001b[0m\u001b[0mnumBegin\u001b[0m\u001b[0;34m)\u001b[0m\u001b[0;34m:\u001b[0m\u001b[0;34m\u001b[0m\u001b[0m\n\u001b[0;32m----> 7\u001b[0;31m         \u001b[0mdelta\u001b[0m\u001b[0;34m=\u001b[0m\u001b[0mlogRegression\u001b[0m\u001b[0;34m(\u001b[0m\u001b[0mtrain_x\u001b[0m\u001b[0;34m,\u001b[0m\u001b[0mtrain_y\u001b[0m\u001b[0;34m)\u001b[0m\u001b[0;34m\u001b[0m\u001b[0m\n\u001b[0m\u001b[1;32m      8\u001b[0m         \u001b[0mcur\u001b[0m\u001b[0;34m=\u001b[0m\u001b[0mcalAccuracyRate\u001b[0m\u001b[0;34m(\u001b[0m\u001b[0mtrain_x\u001b[0m\u001b[0;34m,\u001b[0m\u001b[0mtrain_y\u001b[0m\u001b[0;34m,\u001b[0m\u001b[0mdelta\u001b[0m\u001b[0;34m)\u001b[0m\u001b[0;34m\u001b[0m\u001b[0m\n\u001b[1;32m      9\u001b[0m         \u001b[0;32mif\u001b[0m \u001b[0mcur\u001b[0m\u001b[0;34m>\u001b[0m\u001b[0mmaxx\u001b[0m\u001b[0;34m:\u001b[0m\u001b[0;34m\u001b[0m\u001b[0m\n",
      "\u001b[0;32m<ipython-input-26-18d8a5bf772b>\u001b[0m in \u001b[0;36mlogRegression\u001b[0;34m(train_x, train_y)\u001b[0m\n\u001b[1;32m      9\u001b[0m         \u001b[0mh\u001b[0m \u001b[0;34m=\u001b[0m \u001b[0msigmoid\u001b[0m\u001b[0;34m(\u001b[0m\u001b[0mtrain_x\u001b[0m\u001b[0;34m[\u001b[0m\u001b[0mi\u001b[0m\u001b[0;34m,\u001b[0m \u001b[0;34m:\u001b[0m\u001b[0;34m]\u001b[0m\u001b[0;34m*\u001b[0m\u001b[0mdelta\u001b[0m\u001b[0;34m)\u001b[0m\u001b[0;34m\u001b[0m\u001b[0m\n\u001b[1;32m     10\u001b[0m         \u001b[0merror\u001b[0m \u001b[0;34m=\u001b[0m \u001b[0mtrain_y\u001b[0m\u001b[0;34m[\u001b[0m\u001b[0mi\u001b[0m\u001b[0;34m,\u001b[0m \u001b[0;36m0\u001b[0m\u001b[0;34m]\u001b[0m \u001b[0;34m-\u001b[0m \u001b[0mh\u001b[0m\u001b[0;34m\u001b[0m\u001b[0m\n\u001b[0;32m---> 11\u001b[0;31m         \u001b[0mdelta\u001b[0m \u001b[0;34m+=\u001b[0m \u001b[0malpha\u001b[0m \u001b[0;34m*\u001b[0m \u001b[0mtrain_x\u001b[0m\u001b[0;34m[\u001b[0m\u001b[0mi\u001b[0m\u001b[0;34m,\u001b[0m \u001b[0;34m:\u001b[0m\u001b[0;34m]\u001b[0m\u001b[0;34m.\u001b[0m\u001b[0mtranspose\u001b[0m\u001b[0;34m(\u001b[0m\u001b[0;34m)\u001b[0m\u001b[0;34m*\u001b[0m\u001b[0merror\u001b[0m\u001b[0;34m\u001b[0m\u001b[0m\n\u001b[0m\u001b[1;32m     12\u001b[0m     \u001b[0;32mreturn\u001b[0m \u001b[0mdelta\u001b[0m\u001b[0;34m\u001b[0m\u001b[0m\n",
      "\u001b[0;31mValueError\u001b[0m: non-broadcastable output operand with shape (3,1) doesn't match the broadcast shape (3,57)"
     ]
    }
   ],
   "source": [
    "testingLogR()"
   ]
  },
  {
   "cell_type": "code",
   "execution_count": null,
   "metadata": {
    "collapsed": true
   },
   "outputs": [],
   "source": []
  },
  {
   "cell_type": "code",
   "execution_count": null,
   "metadata": {
    "collapsed": true
   },
   "outputs": [],
   "source": []
  }
 ],
 "metadata": {
  "kernelspec": {
   "display_name": "Python 3",
   "language": "python",
   "name": "python3"
  },
  "language_info": {
   "codemirror_mode": {
    "name": "ipython",
    "version": 3
   },
   "file_extension": ".py",
   "mimetype": "text/x-python",
   "name": "python",
   "nbconvert_exporter": "python",
   "pygments_lexer": "ipython3",
   "version": "3.5.4"
  }
 },
 "nbformat": 4,
 "nbformat_minor": 2
}
